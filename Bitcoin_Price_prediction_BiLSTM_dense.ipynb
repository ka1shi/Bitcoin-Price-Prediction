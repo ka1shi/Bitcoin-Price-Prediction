{
 "cells": [
  {
   "cell_type": "code",
   "execution_count": null,
   "metadata": {
    "colab": {},
    "colab_type": "code",
    "id": "ho1V3OLUlH6T"
   },
   "outputs": [],
   "source": [
    "# BitCoin Price Prediction with Bidirectional LSTM with dense layer"
   ]
  },
  {
   "cell_type": "code",
   "execution_count": null,
   "metadata": {
    "colab": {},
    "colab_type": "code",
    "id": "zkTIhQtVPnHo"
   },
   "outputs": [],
   "source": [
    "#Importing Libraries\n",
    "\n",
    "import os\n",
    "import time\n",
    "import numpy as np\n",
    "import pandas as pd\n",
    "import matplotlib.pyplot as plt\n",
    "%matplotlib inline\n",
    "\n",
    "from keras.layers.core import Dense, Activation, Dropout\n",
    "from keras.layers.recurrent import LSTM\n",
    "from keras.layers import Bidirectional\n",
    "from keras.models import Sequential\n",
    "from sklearn.metrics import mean_squared_error, confusion_matrix\n",
    "import math\n",
    "import seaborn as sns\n"
   ]
  },
  {
   "cell_type": "code",
   "execution_count": null,
   "metadata": {
    "colab": {},
    "colab_type": "code",
    "id": "ctZ6nXCblH6Z"
   },
   "outputs": [],
   "source": [
    "def load_data(filename):\n",
    "\n",
    "    \"\"\"\n",
    "    To load bitcoin price prediction data\n",
    "    \n",
    "    Inputs:\n",
    "    filename -> A string that represents where the data file can be located\n",
    "    \n",
    "    Outputs:\n",
    "    data -> Dataframe of bitcoin price prediction data\n",
    "    \"\"\"\n",
    "    \n",
    "    #Load the data\n",
    "    data = pd.read_csv(filename)\n",
    "                \n",
    "    return data"
   ]
  },
  {
   "cell_type": "code",
   "execution_count": null,
   "metadata": {
    "colab": {},
    "colab_type": "code",
    "id": "PpU_W4Z1QIZ_"
   },
   "outputs": [],
   "source": [
    "def data_prepocessing(data, d, train_data_size):\n",
    "    \n",
    "    \"\"\"\n",
    "    To preproces and split the data to make it ready for training and testing\n",
    "    \n",
    "    Input:\n",
    "    data -> Dataframe of bitcoin price prediction data\n",
    "    d -> number of days to look at in each sample of data \n",
    "    train_data_size -> Size according to which data is splited in training and testing\n",
    "    \n",
    "    Output: \n",
    "    x_train -> x values of training data\n",
    "    y_train -> labels of training data\n",
    "    x_test -> x values of testing data\n",
    "    y_test -> labels of testing data\n",
    "    y_daybefore -> the price of bitcoin the day before for each x_test\n",
    "    unnormalized_labels -> unnormalized label data will be used to get the true prices from the normalized ones\n",
    "    window_size -> An integer that represents how many days of data the model can look at at once\n",
    "    \n",
    "    \"\"\"\n",
    "    \n",
    "    \n",
    "    #Change all zeros to the number before the zero occurs\n",
    "    data = data.values\n",
    "    \n",
    "    for i in range(data.shape[0]):\n",
    "        for j in range(data.shape[1]):\n",
    "            if(data[i][j]==0):\n",
    "                data[i][j] = data[i-1][j]\n",
    "                \n",
    "                \n",
    "    #convert data to list\n",
    "    data = data.tolist()\n",
    "    \n",
    "    #Convert the data to a 3D array (a x b x c) \n",
    "    #Where a is the number of days(n-d+1), b is the window size(d), and c is the number of features in the data file(here 34)\n",
    "    \n",
    "    \n",
    "    data3D = []\n",
    "    for i in range(len(data)-d):\n",
    "        data3D.append(data[i : i + d])\n",
    "    \n",
    "    #Normalizing data by going through each window as range of features is highly variable\n",
    "    #Every value in the window is divided by the first value in the window, and then 1 is subtracted\n",
    "    d1 = np.array(data3D)\n",
    "    dr = np.zeros_like(d1)\n",
    "    dr[:,1:,:] = (d1[:,1:,:] / d1[:,0:1,:]) - 1  \n",
    "    \n",
    "    #Splitting of data set(eg train_data_size = 0.90, training data is first 90% of data points and testing data last 10% of data points)\n",
    "    split = round(train_data_size * dr.shape[0])\n",
    "    #print(split)\n",
    "    \n",
    "    #Keeping the unnormalized prices for labels\n",
    "    #To retrieve unnormalized predicted price of bitcoin later\n",
    "    start = split-1\n",
    "    end = int(dr.shape[0] + 1)\n",
    "    unnormalized_labels = d1[start:end,0:1,20]\n",
    "    \n",
    "    #Training Data\n",
    "    train_data = dr[:int(split), :]\n",
    "    \n",
    "    x_train = train_data[:, :-1]\n",
    "    y_train = train_data[:, -1]\n",
    "    y_train = y_train[:, 20]\n",
    "    \n",
    "    #print(x_train.shape)\n",
    "    #print(x_train)\n",
    "\n",
    "    #print(y_train.shape)\n",
    "    #print(y_train)\n",
    "    \n",
    "    \n",
    "    #Testing data\n",
    "    x_test = dr[int(split):, :-1]\n",
    "    y_test = dr[int(split):, d-1, :]\n",
    "    y_test = y_test[:, 20]\n",
    "\n",
    "    #print(x_test.shape)\n",
    "    #print(x_test)\n",
    "\n",
    "    #print(y_test.shape)\n",
    "    #print(y_test)\n",
    "\n",
    "    #Get the day before price for each x_test\n",
    "    y_daybefore = dr[int(split):, d-2, :]\n",
    "    y_daybefore = y_daybefore[:, 20]\n",
    "\n",
    "    #print(y_daybefore)\n",
    "    \n",
    "    #Get window size and sequence length\n",
    "    sequence_length = d\n",
    "    window_size = sequence_length-1 #last value is reserved as the y value\n",
    "    \n",
    "    return x_train, y_train, x_test, y_test, y_daybefore, unnormalized_labels, window_size"
   ]
  },
  {
   "cell_type": "code",
   "execution_count": null,
   "metadata": {
    "colab": {},
    "colab_type": "code",
    "id": "RfawMyZ_lH6c"
   },
   "outputs": [],
   "source": [
    "def model(window_size, dropout_value, activation_function, loss_function, optimizer):\n",
    "    \n",
    "    \"\"\"\n",
    "    To initialize and create model\n",
    "    \n",
    "    Input:\n",
    "    window_size -> Represents how many days of data the model can look at at once\n",
    "    dropout_value -> Represents how much dropout should be incorporated at each level\n",
    "    activation_function -> Activation function \n",
    "    loss_function -> Loss function \n",
    "    optimizer -> Optimizer \n",
    "    \n",
    "    Output:\n",
    "    model -> A 3 layer RNN with Dense in each layer\n",
    "    \"\"\"\n",
    "    \n",
    "    #Create a Sequential model using Keras\n",
    "    model = Sequential()\n",
    "\n",
    "    #First recurrent layer with dropout\n",
    "    model.add(Bidirectional(LSTM(window_size, return_sequences=True), input_shape=(window_size, N_x_train.shape[-1]),))\n",
    "    model.add(Dense(units=64, activation=activation_function))\n",
    "\n",
    "    #Second recurrent layer with dropout\n",
    "    model.add(Bidirectional(LSTM((window_size*2), return_sequences=True)))\n",
    "    model.add(Dense(units=32, activation=activation_function))\n",
    "\n",
    "    #Third recurrent layer\n",
    "    model.add(Bidirectional(LSTM(window_size, return_sequences=False)))\n",
    "\n",
    "    #Output layer (returns the predicted value)\n",
    "    model.add(Dense(units=1))\n",
    "    \n",
    "    #Set activation function\n",
    "    model.add(Activation(activation_function))\n",
    "\n",
    "    #Set loss function and optimizer\n",
    "    model.compile(loss=loss_function, optimizer=optimizer, metrics=['accuracy'])\n",
    "    \n",
    "    return model"
   ]
  },
  {
   "cell_type": "code",
   "execution_count": null,
   "metadata": {
    "colab": {},
    "colab_type": "code",
    "id": "q5Q5A4fdlH6g"
   },
   "outputs": [],
   "source": [
    "def test_model(model, N_x_test, N_y_test, unnormalized_labels):\n",
    "  \n",
    "    \"\"\"\n",
    "    For model Testing\n",
    "    \n",
    "    Input:\n",
    "    model -> BiLSTM\n",
    "    N_x_test -> Normalized x values of the testing data\n",
    "    N_y_test -> Normalized labels of the testing data\n",
    "    unnormalized_labels -> unnormalized label data will be used to get the true prices from the normalized ones\n",
    "    \n",
    "    Output:\n",
    "    N_y_predict -> Normalized predicted values on x_test\n",
    "    y_test -> Unnormalized actual prices of bitcoin throughout the testing period\n",
    "    y_predict -> Unnormalized predicted prices of bitcoin\n",
    "    fig -> graph of the predicted prices vs the actual prices of bitcoin\n",
    "    \"\"\"\n",
    "    \n",
    "    #Test the model on Normalized x_test\n",
    "    N_y_predict = model.predict(N_x_test)\n",
    "    \n",
    "    #Retrieve unnormalized values\n",
    "    y_test = np.zeros_like(N_y_test)\n",
    "    y_predict = np.zeros_like(N_y_predict)\n",
    "    \n",
    "    for i in range(N_y_test.shape[0]):\n",
    "        y = N_y_test[i]\n",
    "        predict = N_y_predict[i]\n",
    "        y_test[i] = (y+1)*unnormalized_labels[i]\n",
    "        y_predict[i] = (predict+1)*unnormalized_labels[i]\n",
    "\n",
    "    #Plot of the predicted prices versus the actual prices\n",
    "    fig = plt.figure(figsize=(10,5))\n",
    "    ax = fig.add_subplot(111)\n",
    "    ax.set_title(\"Bitcoin Price Over Time\")\n",
    "    plt.plot(y_predict, color = 'green', label = 'Predicted Price')\n",
    "    plt.plot(y_test, color = 'red', label = 'Actual Price')\n",
    "    ax.set_ylabel(\"Price (USD)\")\n",
    "    ax.set_xlabel(\"Time (Days)\")\n",
    "    ax.legend()\n",
    "    plt.show()\n",
    "    \n",
    "    return N_y_predict, y_test, y_predict, fig"
   ]
  },
  {
   "cell_type": "code",
   "execution_count": null,
   "metadata": {
    "colab": {},
    "colab_type": "code",
    "id": "88jwM3ZvlH6j"
   },
   "outputs": [],
   "source": [
    "def price_change(N_y_daybefore, N_y_test, N_y_predict):\n",
    "    \n",
    "    \"\"\"\n",
    "    Calculate the percent change between each value and the day before\n",
    "    \n",
    "    Input:\n",
    "    y_test -> Normalized labels of the testing data\n",
    "    y_daybefore -> Normalized price of bitcoin the day before for each x_test\n",
    "    y_predict -> Normalized predicted values on x_test\n",
    "    \n",
    "    Output:\n",
    "    N_y_test -> Normalized labels of the testing data\n",
    "    N_y_daybefore -> the price of bitcoin the day before for each x_test\n",
    "    delta_predict -> Represents the difference between predicted(y_predict) and day before price(y_daybefore) of bitcoin\n",
    "    delta_test -> Represents the difference between actual(y_test) and day before price(y_daybefore) of bitcoin\n",
    "    fig -> A plot representing percent change in bitcoin price per day\n",
    "    \n",
    "    \"\"\"\n",
    "    \n",
    "    #Reshaping Y_daybefore and Y_test\n",
    "    N_y_daybefore = np.reshape(N_y_daybefore, (-1, 1))\n",
    "    N_y_test = np.reshape(N_y_test, (-1, 1))\n",
    "\n",
    "    #The difference between each predicted value and the value from the day before\n",
    "    delta_predict = (N_y_predict - N_y_daybefore) / (1+N_y_daybefore)\n",
    "\n",
    "    #The difference between each true value and the value from the day before\n",
    "    delta_test = (N_y_test - N_y_daybefore) / (1+N_y_daybefore)\n",
    "    \n",
    "    #Plotting the predicted percent change versus the actual percent change\n",
    "    fig = plt.figure(figsize=(10, 6))\n",
    "    ax = fig.add_subplot(111)\n",
    "    ax.set_title(\"Percent Change in Bitcoin Price Per Day\")\n",
    "    plt.plot(delta_predict, color='green', label = 'Predicted Percent Change')\n",
    "    plt.plot(delta_test, color='red', label = 'Actual Percent Change')\n",
    "    plt.ylabel(\"Percent Change\")\n",
    "    plt.xlabel(\"Time (Days)\")\n",
    "    ax.legend()\n",
    "    plt.show()\n",
    "    \n",
    "    return delta_predict, delta_test, fig"
   ]
  },
  {
   "cell_type": "code",
   "execution_count": null,
   "metadata": {
    "colab": {},
    "colab_type": "code",
    "id": "GSjpW6kSlH6m"
   },
   "outputs": [],
   "source": [
    "def binary_price(delta_predict, delta_test):\n",
    "    \"\"\"\n",
    "    Converts percent change to a binary 1 or 0, where 1 is an increase and 0 is a decrease/no change in bitcoin price\n",
    "    \n",
    "    Input:\n",
    "    delta_predict -> Represents the predicted percent change in price\n",
    "    delta_test -> Represents the actual percent change in price\n",
    "    \n",
    "    Output:\n",
    "    delta_predict_binary -> Represents if predicted price increase or decrease wrt day before\n",
    "    delta_test_binary -> Represents if actual price increase or decrease wrt day before\n",
    "    \"\"\"\n",
    "    \n",
    "    #Empty arrays where 1 represents an increase in price and 0 represents a decrease in price\n",
    "    delta_predict_binary = np.empty(delta_predict.shape)\n",
    "    delta_test_binary = np.empty(delta_test.shape)\n",
    "\n",
    "    #If the change in price is greater than zero, store it as a 1\n",
    "    #If the change in price is less than zero, store it as a 0\n",
    "    for i in range(delta_predict.shape[0]):\n",
    "        if delta_predict[i][0] > 0:\n",
    "            delta_predict_binary[i][0] = 1\n",
    "        else:\n",
    "            delta_predict_binary[i][0] = 0\n",
    "    for i in range(delta_test.shape[0]):\n",
    "        if delta_test[i][0] > 0:\n",
    "            delta_test_binary[i][0] = 1\n",
    "        else:\n",
    "            delta_test_binary[i][0] = 0    \n",
    "\n",
    "    return delta_predict_binary, delta_test_binary"
   ]
  },
  {
   "cell_type": "code",
   "execution_count": null,
   "metadata": {
    "colab": {},
    "colab_type": "code",
    "id": "pm003jlTlH6q"
   },
   "outputs": [],
   "source": [
    "def find_positives_negatives(delta_predict_binary, delta_test_binary):\n",
    "    \"\"\"\n",
    "    Finding the number of false positives, false negatives, true positives, true negatives\n",
    "    \n",
    "    Input: \n",
    "    delta_predict_binary -> Represents if predicted price increase or decrease wrt day before\n",
    "    delta_test_binary -> Represents if actual price increase or decrease wrt day before\n",
    "    \n",
    "    Output:\n",
    "    true_pos -> Represents the number of true positives achieved by the model\n",
    "    false_pos -> Represents the number of false positives achieved by the model\n",
    "    true_neg -> Represents the number of true negatives achieved by the model\n",
    "    false_neg -> Represents the number of false negatives achieved by the model\n",
    "    \"\"\"\n",
    "    #Finding the number of false positive/negatives and true positives/negatives\n",
    "    true_pos = 0\n",
    "    false_pos = 0\n",
    "    true_neg = 0\n",
    "    false_neg = 0\n",
    "    for i in range(delta_test_binary.shape[0]):\n",
    "        test = delta_test_binary[i][0]\n",
    "        predicted = delta_predict_binary[i][0]\n",
    "        if test == 1:\n",
    "            if predicted == 1:\n",
    "                true_pos += 1\n",
    "            else:\n",
    "                false_neg += 1\n",
    "        elif test == 0:\n",
    "            if predicted == 0:\n",
    "                true_neg += 1\n",
    "            else:\n",
    "                false_pos += 1\n",
    "    return true_pos, false_pos, true_neg, false_neg"
   ]
  },
  {
   "cell_type": "code",
   "execution_count": null,
   "metadata": {
    "colab": {},
    "colab_type": "code",
    "id": "f9pbJHZulH6t"
   },
   "outputs": [],
   "source": [
    "def calculate_statistics(true_pos, false_pos, true_neg, false_neg, N_y_predict, N_y_test):\n",
    "    \"\"\"\n",
    "    Calculate various statistics to assess performance\n",
    "    \n",
    "    Input:\n",
    "    true_pos -> Represents the number of true positives achieved by the model\n",
    "    false_pos -> Represents the number of false positives achieved by the model\n",
    "    true_neg -> Represents the number of true negatives achieved by the model\n",
    "    false_neg -> Represents the number of false negatives achieved by the model\n",
    "    N_y_test -> Normalized labels of the testing data\n",
    "    N_y_predict -> Normalized predicted values on x_test\n",
    "    \n",
    "    Output:\n",
    "    precision -> How many selected items are relevent? (TP/TP+FP)\n",
    "    recall -> How many relevent items are selected? (TP/TP+FN)\n",
    "    F1 -> The weighted average of recall and precision\n",
    "    Mean Squared Error -> The average of the squares of the differences between predicted and actual bitcoin price\n",
    "    \n",
    "    \"\"\"\n",
    "    \n",
    "    precision = float(true_pos) / (true_pos + false_pos)\n",
    "    recall = float(true_pos) / (true_pos + false_neg)\n",
    "    F1 = float(2 * precision * recall) / (precision + recall)\n",
    "    MSE = mean_squared_error(N_y_predict.flatten(), N_y_test.flatten())\n",
    "    RMSE = math.sqrt(MSE)\n",
    "\n",
    "    return precision, recall, F1, MSE, RMSE"
   ]
  },
  {
   "cell_type": "code",
   "execution_count": null,
   "metadata": {
    "colab": {
     "base_uri": "https://localhost:8080/",
     "height": 955
    },
    "colab_type": "code",
    "id": "TqAQeWC1lH6w",
    "outputId": "bb10763c-2848-4fdc-d13c-e891ef699511"
   },
   "outputs": [],
   "source": [
    "# Loading dataset\n",
    "\n",
    "data = load_data(\"Bitcoin_Price_Prediction_data.csv\")\n",
    "\n",
    "# Analysis of data\n",
    "# Exploratory data analysis\n",
    "data.info()\n",
    "data.head()"
   ]
  },
  {
   "cell_type": "code",
   "execution_count": null,
   "metadata": {
    "colab": {
     "base_uri": "https://localhost:8080/",
     "height": 351
    },
    "colab_type": "code",
    "id": "iOgZRB8CU-qu",
    "outputId": "416d86de-7908-45e0-d74b-9efe940a0527"
   },
   "outputs": [],
   "source": [
    "data.describe()"
   ]
  },
  {
   "cell_type": "code",
   "execution_count": null,
   "metadata": {
    "colab": {
     "base_uri": "https://localhost:8080/",
     "height": 629
    },
    "colab_type": "code",
    "id": "zqls8LJ3U_rW",
    "outputId": "2d9f5a69-c03c-47b5-d782-58f5e03bf468"
   },
   "outputs": [],
   "source": [
    "# Checking null values\n",
    "\n",
    "data.apply(lambda x : sum(x.isnull()), axis=0)\n",
    "\n",
    "#no null value found"
   ]
  },
  {
   "cell_type": "code",
   "execution_count": null,
   "metadata": {
    "colab": {
     "base_uri": "https://localhost:8080/",
     "height": 350
    },
    "colab_type": "code",
    "id": "ve-a5Ev1uJyk",
    "outputId": "4b09d7e9-ea29-4777-8a2f-00bc968f0a04"
   },
   "outputs": [],
   "source": [
    "# Correlational Matrix\n",
    "\n",
    "corr = data.corr()\n",
    "ax = sns.heatmap(corr, vmin=-1, vmax=1, center=0,\n",
    "    cmap=sns.diverging_palette(20, 220, n=200),\n",
    "    square=True, linewidths = 0.005)\n",
    "\n",
    "ax.set_xticklabels(\n",
    "    ax.get_xticklabels(),\n",
    "    rotation=45,\n",
    "    horizontalalignment='right'\n",
    ");\n",
    "\n",
    "# Saving correlational matrix as image\n",
    "plt.savefig('corr.png', bbox_inches='tight', pad_inches=0.0)\n",
    "\n",
    "# Market Capitalization and Output Value are highly correlated with Bitcoin Price"
   ]
  },
  {
   "cell_type": "code",
   "execution_count": null,
   "metadata": {
    "colab": {
     "base_uri": "https://localhost:8080/",
     "height": 312
    },
    "colab_type": "code",
    "id": "A8KoqQTTuJ5N",
    "outputId": "8a248185-1435-4ef0-af53-fec054257ca3"
   },
   "outputs": [],
   "source": [
    "# How Bitcoin Price change with Market Capitalization\n",
    "\n",
    "x = data['Market Capitalization']\n",
    "y = data['Bitcoin Price']\n",
    "plt.title(\"Bitcoin Price change with Market Capitalization\")\n",
    "plt.xlabel(\"Market Capitalization\")\n",
    "plt.ylabel(\"Bitcoin Price\")\n",
    "plt.plot(x,y)\n"
   ]
  },
  {
   "cell_type": "code",
   "execution_count": null,
   "metadata": {
    "colab": {
     "base_uri": "https://localhost:8080/",
     "height": 312
    },
    "colab_type": "code",
    "id": "fBEe1xzkuKA0",
    "outputId": "4843e740-0404-4369-e63a-033b616ce2ae"
   },
   "outputs": [],
   "source": [
    "# How Bitcoin Price change with dollar value of all outputs sent over the network\n",
    "\n",
    "x = data['Output Value']\n",
    "y = data['Bitcoin Price']\n",
    "plt.title(\"Bitcoin Price change with Output value\")\n",
    "plt.xlabel(\"Output Value \")\n",
    "plt.ylabel(\"Bitcoin Price\")\n",
    "plt.plot(x,y)"
   ]
  },
  {
   "cell_type": "code",
   "execution_count": null,
   "metadata": {
    "colab": {
     "base_uri": "https://localhost:8080/",
     "height": 298
    },
    "colab_type": "code",
    "id": "SbKys4Fn2L00",
    "outputId": "84251d9c-c79a-4e16-f3d8-24ce31e8ddf5"
   },
   "outputs": [],
   "source": [
    "data['Bitcoin Price'].plot()\n",
    "plt.ylabel(\"Daily Bitcoin price\")\n",
    "plt.title(\"Bitcoin Price\")"
   ]
  },
  {
   "cell_type": "code",
   "execution_count": null,
   "metadata": {
    "colab": {
     "base_uri": "https://localhost:8080/",
     "height": 974
    },
    "colab_type": "code",
    "id": "DOMqEcaEU_4r",
    "outputId": "edb2c45e-35ca-4c17-922e-2c65c607d0ec"
   },
   "outputs": [],
   "source": [
    "# Growth in the total network computations over the past 365 days\n",
    "fig = plt.figure(figsize=(7, 5))\n",
    "ax1 = fig.add_subplot(111)\n",
    "ax1.set_title(\"Growth in the total network computations over the past 365 days\")\n",
    "x = data['Annual Hash Growth']\n",
    "plt.plot(x, color='b', label = 'Annual Hash Growth')\n",
    "plt.ylabel(\"Annual Hash Growth\")\n",
    "ax1.legend()\n",
    "plt.show()\n",
    "    \n",
    "#The amount of dollars earned by the mining network\n",
    "fig = plt.figure(figsize=(7, 5))\n",
    "ax2 = fig.add_subplot(111)\n",
    "ax2.set_title(\"The amount of dollars earned by the mining network\")\n",
    "x = data['Miner Revenue Value']\n",
    "plt.plot(x, color='b', label = 'Miner Revenue Value')\n",
    "plt.ylabel(\"Miner Revenue Value\")\n",
    "ax2.legend()\n",
    "plt.show()\n",
    "\n",
    "#Average amount of time between blocks\n",
    "fig = plt.figure(figsize=(7, 5))\n",
    "ax2 = fig.add_subplot(111)\n",
    "ax2.set_title(\"Average amount of time between blocks\")\n",
    "x = data['Block Interval']\n",
    "plt.plot(x, color='b', label = 'Block Interval')\n",
    "plt.ylabel(\"Block Interval\")\n",
    "ax2.legend()\n",
    "plt.show()\n",
    "    "
   ]
  },
  {
   "cell_type": "code",
   "execution_count": null,
   "metadata": {
    "colab": {
     "base_uri": "https://localhost:8080/",
     "height": 312
    },
    "colab_type": "code",
    "id": "Wnms-JiXS3pR",
    "outputId": "43bbac0e-99c7-43d7-9e2a-62eb9e45258b"
   },
   "outputs": [],
   "source": [
    "\n",
    "# How Bitcoin Price changes with unspent transaction dollar value\n",
    "\n",
    "x = data['Avg. UTXO Value']\n",
    "y = data['Bitcoin Price']\n",
    "plt.title(\"Bitcoin Price change with unspent transaction dollar value\")\n",
    "plt.xlabel(\"Average UTXO Value\")\n",
    "plt.ylabel(\"Bitcoin Price\")\n",
    "plt.plot(x,y)"
   ]
  },
  {
   "cell_type": "code",
   "execution_count": null,
   "metadata": {
    "colab": {
     "base_uri": "https://localhost:8080/",
     "height": 312
    },
    "colab_type": "code",
    "id": "GG895JSBjrrX",
    "outputId": "af612018-a23f-4eb1-da15-14480f50c6bd"
   },
   "outputs": [],
   "source": [
    "# How Difficulty changes with total number of transactions\n",
    "\n",
    "x = data['Total Transactions']\n",
    "y = data['Difficulty']\n",
    "plt.title(\"Difficulty changes with total number of transactions\")\n",
    "plt.xlabel(\"Total Transactions\")\n",
    "plt.ylabel(\"Difficulty\")\n",
    "plt.plot(x,y)"
   ]
  },
  {
   "cell_type": "code",
   "execution_count": null,
   "metadata": {
    "colab": {
     "base_uri": "https://localhost:8080/",
     "height": 312
    },
    "colab_type": "code",
    "id": "yN4beuyQzNel",
    "outputId": "4d5576dd-beac-43cb-89ec-a66ab313514f"
   },
   "outputs": [],
   "source": [
    "# How Difficulty changes with Market Capitalization\n",
    "\n",
    "x = data['Market Capitalization']\n",
    "y = data['Difficulty']\n",
    "plt.title(\"Difficulty changes with Market Capitalization\")\n",
    "plt.xlabel(\"Market Capitalization\")\n",
    "plt.ylabel(\"Difficulty\")\n",
    "plt.plot(x,y)"
   ]
  },
  {
   "cell_type": "code",
   "execution_count": null,
   "metadata": {
    "colab": {
     "base_uri": "https://localhost:8080/",
     "height": 312
    },
    "colab_type": "code",
    "id": "KFt5Zg5VeoSw",
    "outputId": "1d1126d5-6dfe-4c51-c356-6f889abfc91f"
   },
   "outputs": [],
   "source": [
    "\n",
    "# How Bitcoin Price change with money supply\n",
    "\n",
    "x = data['Money Supply']\n",
    "y = data['Bitcoin Price']\n",
    "plt.title(\"Bitcoin Price change with money supply\")\n",
    "plt.xlabel(\"Money Supply\")\n",
    "plt.ylabel(\"Bitcoin Price\")\n",
    "plt.plot(x,y)"
   ]
  },
  {
   "cell_type": "code",
   "execution_count": null,
   "metadata": {
    "colab": {
     "base_uri": "https://localhost:8080/",
     "height": 312
    },
    "colab_type": "code",
    "id": "jn8GztEeflqA",
    "outputId": "42046ffe-0ec5-4d1d-afac-9088dffea173"
   },
   "outputs": [],
   "source": [
    "# How Bitcoin Price change with amount of bitcoin sent over network\n",
    "\n",
    "y = data['Output Volume']\n",
    "x = data['Bitcoin Price']\n",
    "plt.title(\"Bitcoin Price change with amount of bitcoin sent over network\")\n",
    "plt.ylabel(\"Output Volume\")\n",
    "plt.xlabel(\"Bitcoin Price\")\n",
    "plt.plot(x,y)"
   ]
  },
  {
   "cell_type": "code",
   "execution_count": null,
   "metadata": {
    "colab": {
     "base_uri": "https://localhost:8080/",
     "height": 312
    },
    "colab_type": "code",
    "id": "SBJFCZAuS3r2",
    "outputId": "d8656879-e4f9-4fb5-92ab-bde9160d485e"
   },
   "outputs": [],
   "source": [
    "# How Bitcoin Price changes with proportion of the money supply transacted each day\n",
    "\n",
    "y = data['Velocity - Daily']\n",
    "x = data['Bitcoin Price']\n",
    "plt.title(\"Bitcoin Price change with proportion of the money supply transacted each day\")\n",
    "plt.ylabel(\"Velocity-Daily\")\n",
    "plt.xlabel(\"Bitcoin Price\")\n",
    "plt.plot(x,y)"
   ]
  },
  {
   "cell_type": "code",
   "execution_count": null,
   "metadata": {
    "colab": {
     "base_uri": "https://localhost:8080/",
     "height": 312
    },
    "colab_type": "code",
    "id": "Hjm97zuhgRH8",
    "outputId": "da598c53-a19c-4fc0-8799-14e4edb494a2"
   },
   "outputs": [],
   "source": [
    "# How amount of bitcoin transacted each day changes with proportion of money supply transacted each day \n",
    "\n",
    "y = data['Velocity - Daily']\n",
    "x = data['Output Value']\n",
    "plt.title(\"Amount of bitcoin transacted each day changes with proportion of money supply transacted each day\")\n",
    "plt.ylabel(\"Velocity-Daily\")\n",
    "plt.xlabel(\"Output Value\")\n",
    "plt.plot(x,y)"
   ]
  },
  {
   "cell_type": "code",
   "execution_count": null,
   "metadata": {
    "colab": {
     "base_uri": "https://localhost:8080/",
     "height": 312
    },
    "colab_type": "code",
    "id": "nAoEt_fQS3uc",
    "outputId": "7d77b8b2-8fa8-4f61-a309-ddd5ffc46494"
   },
   "outputs": [],
   "source": [
    "# How Bitcoin Price changes with number of blocks\n",
    "\n",
    "x = data['Block Height']\n",
    "y = data['Bitcoin Price']\n",
    "plt.title(\"Bitcoin Price change with Block Height\")\n",
    "plt.xlabel(\"Block Height\")\n",
    "plt.ylabel(\"Bitcoin Price\")\n",
    "plt.plot(x,y)"
   ]
  },
  {
   "cell_type": "code",
   "execution_count": null,
   "metadata": {
    "colab": {
     "base_uri": "https://localhost:8080/",
     "height": 312
    },
    "colab_type": "code",
    "id": "O9hJJNwuS3w3",
    "outputId": "231881a6-7317-4b09-d515-60074c2586d4"
   },
   "outputs": [],
   "source": [
    "# How Bitcoin Price changes with Transaction Fees\n",
    "\n",
    "x = data['Transaction Fees']\n",
    "y = data['Bitcoin Price']\n",
    "plt.title(\"Bitcoin Price change with Transaction Fees\")\n",
    "plt.xlabel(\"Transaction Fees\")\n",
    "plt.ylabel(\"Bitcoin Price\")\n",
    "plt.plot(x,y)"
   ]
  },
  {
   "cell_type": "code",
   "execution_count": null,
   "metadata": {
    "colab": {
     "base_uri": "https://localhost:8080/",
     "height": 136
    },
    "colab_type": "code",
    "id": "ZAEAEEpczCkh",
    "outputId": "0d943e1a-861f-469b-e87e-249ee92382ce"
   },
   "outputs": [],
   "source": [
    "#Data Preprocessing for training and testing of data\n",
    "\n",
    "N_x_train, N_y_train, N_x_test, N_y_test, N_y_daybefore, unnormalized_labels, window_size = data_prepocessing(data, 50, 0.90)\n",
    "print (N_x_train.shape)\n",
    "print (N_y_train.shape)\n",
    "print (N_x_test.shape)\n",
    "print (N_y_test.shape)\n",
    "print (N_y_daybefore.shape)\n",
    "print (unnormalized_labels.shape)\n",
    "print (window_size)"
   ]
  },
  {
   "cell_type": "code",
   "execution_count": null,
   "metadata": {
    "colab": {
     "base_uri": "https://localhost:8080/",
     "height": 391
    },
    "colab_type": "code",
    "id": "Iqxr7ij1lH62",
    "outputId": "87683f2f-4219-4c1f-c6c3-175cab68818c"
   },
   "outputs": [],
   "source": [
    "#Model Initialization\n",
    "\n",
    "model = model(window_size, 0.2, 'linear', 'mse', 'adam')\n",
    "print (model.summary())"
   ]
  },
  {
   "cell_type": "code",
   "execution_count": null,
   "metadata": {
    "colab": {
     "base_uri": "https://localhost:8080/",
     "height": 731
    },
    "colab_type": "code",
    "id": "bGA7FfkUlH68",
    "outputId": "59ad07c9-4d13-46fc-b4a8-546b3518f3eb"
   },
   "outputs": [],
   "source": [
    "start = time.time()\n",
    "\n",
    "#Train the model on training data \n",
    "model.fit(N_x_train, N_y_train, batch_size= 1024, epochs=50, validation_split= 0.1)\n",
    "\n",
    "#Get the time it took to train the model (in seconds)\n",
    "training_time = int(math.floor(time.time() - start))\n",
    "\n",
    "print(training_time)"
   ]
  },
  {
   "cell_type": "code",
   "execution_count": null,
   "metadata": {
    "colab": {
     "base_uri": "https://localhost:8080/",
     "height": 367
    },
    "colab_type": "code",
    "id": "Jzdwtu55lH7C",
    "outputId": "5d58e8f8-c764-46a5-e1a0-6c1e3d2ba90d"
   },
   "outputs": [],
   "source": [
    "# Model testing with testing data\n",
    "N_y_predict, y_test, y_predict, fig1 = test_model(model, N_x_test, N_y_test, unnormalized_labels)\n",
    "\n",
    "#Show the plot\n",
    "plt.show(fig1)\n",
    "\n",
    "print()"
   ]
  },
  {
   "cell_type": "code",
   "execution_count": null,
   "metadata": {
    "colab": {
     "base_uri": "https://localhost:8080/",
     "height": 404
    },
    "colab_type": "code",
    "id": "6bVvFtOTlH7H",
    "outputId": "b8b0fadd-af74-432d-f960-24354909d4b6"
   },
   "outputs": [],
   "source": [
    "# To calculate how actual and predicted price changed wrt day before price of bitcoin\n",
    "delta_predict, delta_test, fig2 = price_change(N_y_daybefore, N_y_test, N_y_predict)\n",
    "\n",
    "#Show the plot\n",
    "plt.show(fig2)"
   ]
  },
  {
   "cell_type": "code",
   "execution_count": null,
   "metadata": {
    "colab": {},
    "colab_type": "code",
    "id": "Cgz8K-3tlH7K"
   },
   "outputs": [],
   "source": [
    "# To calculateif bitcoin predicted and actual price increase or decreases wrt day before price of bitcoin\n",
    "delta_predict_binary, delta_test_binary = binary_price(delta_predict, delta_test)\n",
    "\n",
    "#print (delta_predict_binary.shape)\n",
    "#print (delta_test_binary.shape)"
   ]
  },
  {
   "cell_type": "code",
   "execution_count": null,
   "metadata": {
    "colab": {
     "base_uri": "https://localhost:8080/",
     "height": 119
    },
    "colab_type": "code",
    "id": "npvpzyo2lH7O",
    "outputId": "cacc2e6f-9cf7-4808-d87f-e12b2b5ec062"
   },
   "outputs": [],
   "source": [
    "# To calculate True_pos, False_pos, True_neg and False_neg\n",
    "true_pos, false_pos, true_neg, false_neg = find_positives_negatives(delta_predict_binary, delta_test_binary)\n",
    "print (\"True positives:\", true_pos)\n",
    "print (\"False positives:\", false_pos)\n",
    "print (\"True negatives:\", true_neg)\n",
    "print (\"False negatives:\", false_neg)\n",
    "\n",
    "cm = confusion_matrix(delta_test_binary, delta_predict_binary) \n",
    "print(cm) "
   ]
  },
  {
   "cell_type": "code",
   "execution_count": null,
   "metadata": {
    "colab": {
     "base_uri": "https://localhost:8080/",
     "height": 102
    },
    "colab_type": "code",
    "id": "J5eD0SBelH7Q",
    "outputId": "cb45710c-7685-4e2d-9ebc-82263ef39f8a"
   },
   "outputs": [],
   "source": [
    "# Find accuracy of model\n",
    "\n",
    "precision, recall, F1, MSE, RMSE = calculate_statistics(true_pos, false_pos, true_neg, false_neg, N_y_predict, N_y_test)\n",
    "print (\"Precision:\", precision)\n",
    "print (\"Recall:\", recall)\n",
    "print (\"F1 score:\", F1)\n",
    "print (\"Mean Squared Error:\", MSE)\n",
    "print(\"Root Mean Squared Error:\", RMSE)"
   ]
  }
 ],
 "metadata": {
  "colab": {
   "collapsed_sections": [],
   "name": "Bitcoin_Price_prediction_BiLSTM_dense.ipynb",
   "provenance": [],
   "version": "0.3.2"
  },
  "kernelspec": {
   "display_name": "Python 3",
   "language": "python",
   "name": "python3"
  },
  "language_info": {
   "codemirror_mode": {
    "name": "ipython",
    "version": 3
   },
   "file_extension": ".py",
   "mimetype": "text/x-python",
   "name": "python",
   "nbconvert_exporter": "python",
   "pygments_lexer": "ipython3",
   "version": "3.7.3"
  }
 },
 "nbformat": 4,
 "nbformat_minor": 1
}
